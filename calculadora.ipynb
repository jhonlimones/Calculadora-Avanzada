{
 "cells": [
  {
   "cell_type": "code",
   "execution_count": 1,
   "metadata": {},
   "outputs": [],
   "source": [
    "# Análisis Exploratorio de Datos de la Calculadora Avanzada\n",
    "# Carga y visualización de archivos .pkl\n",
    "\n",
    "# Importar librerías necesarias\n",
    "import pickle\n",
    "import pandas as pd\n",
    "import matplotlib.pyplot as plt\n",
    "import seaborn as sns\n",
    "import numpy as np\n",
    "import os\n",
    "from datetime import datetime\n",
    "\n",
    "# Configuración visual\n",
    "plt.style.use('ggplot')\n",
    "sns.set(style=\"whitegrid\")"
   ]
  },
  {
   "cell_type": "code",
   "execution_count": 4,
   "metadata": {},
   "outputs": [
    {
     "name": "stdout",
     "output_type": "stream",
     "text": [
      "✅ Archivo cargado correctamente: backups_admin/user_all_20250331_182415.pkl\n",
      "\n",
      "Tipo de datos: <class 'dict'>\n",
      "\n",
      "Claves disponibles en el diccionario:\n",
      "- operaciones\n",
      "- usuarios\n",
      "- historial\n",
      "- fecha_backup\n"
     ]
    }
   ],
   "source": [
    "# Función para cargar archivo pickle\n",
    "def cargar_archivo_pkl(ruta_archivo):\n",
    "    try:\n",
    "        with open(ruta_archivo, 'rb') as archivo:\n",
    "            datos = pickle.load(archivo)\n",
    "        print(f\"✅ Archivo cargado correctamente: {ruta_archivo}\")\n",
    "        return datos\n",
    "    except Exception as e:\n",
    "        print(f\"❌ Error al cargar el archivo: {str(e)}\")\n",
    "        return None\n",
    "\n",
    "# Ruta del archivo pickle (ajusta la ruta según donde hayas guardado tu archivo)\n",
    "ruta_archivo = \"backups_admin/user_all_20250331_182415.pkl\"  # Cambia esto a la ruta de tu archivo\n",
    "\n",
    "# Cargar datos\n",
    "datos = cargar_archivo_pkl(ruta_archivo)\n",
    "\n",
    "# Información básica sobre los datos cargados\n",
    "if datos:\n",
    "    print(f\"\\nTipo de datos: {type(datos)}\")\n",
    "    \n",
    "    if isinstance(datos, dict):\n",
    "        print(\"\\nClaves disponibles en el diccionario:\")\n",
    "        for clave in datos.keys():\n",
    "            print(f\"- {clave}\")\n",
    "    elif isinstance(datos, list):\n",
    "        print(f\"\\nNúmero de registros: {len(datos)}\")\n",
    "        if len(datos) > 0:\n",
    "            print(\"\\nPrimer registro:\")\n",
    "            print(datos[0])\n",
    "    else:\n",
    "        print(\"Tipo de datos no reconocido para análisis automático.\")"
   ]
  },
  {
   "cell_type": "code",
   "execution_count": 5,
   "metadata": {},
   "outputs": [
    {
     "name": "stdout",
     "output_type": "stream",
     "text": [
      "\n",
      "🔍 Primeras filas del DataFrame:\n"
     ]
    },
    {
     "data": {
      "application/vnd.microsoft.datawrangler.viewer.v0+json": {
       "columns": [
        {
         "name": "index",
         "rawType": "int64",
         "type": "integer"
        },
        {
         "name": "operacion_id",
         "rawType": "int64",
         "type": "integer"
        },
        {
         "name": "usuario_id",
         "rawType": "int64",
         "type": "integer"
        },
        {
         "name": "usuario",
         "rawType": "object",
         "type": "string"
        },
        {
         "name": "operando1",
         "rawType": "object",
         "type": "unknown"
        },
        {
         "name": "operador",
         "rawType": "object",
         "type": "string"
        },
        {
         "name": "operando2",
         "rawType": "object",
         "type": "unknown"
        },
        {
         "name": "resultado",
         "rawType": "object",
         "type": "unknown"
        },
        {
         "name": "operacion_creado_en",
         "rawType": "datetime64[ns]",
         "type": "datetime"
        }
       ],
       "conversionMethod": "pd.DataFrame",
       "ref": "bbfb7dfe-3752-41a5-ab38-4387907413ed",
       "rows": [
        [
         "0",
         "1",
         "2",
         "profesor",
         "10.0",
         "-",
         "5.0",
         "5.0",
         "2025-03-28 01:08:47.028957"
        ],
        [
         "1",
         "2",
         "1",
         "admin",
         "2.0",
         "+",
         "2.0",
         "4.0",
         "2025-03-28 01:12:58.324156"
        ],
        [
         "2",
         "3",
         "1",
         "admin",
         "2.0",
         "*",
         "3.0",
         "6.0",
         "2025-03-28 01:13:11.899403"
        ],
        [
         "3",
         "4",
         "2",
         "profesor",
         "3.0",
         "+",
         "3.0",
         "6.0",
         "2025-03-28 01:20:36.192123"
        ],
        [
         "4",
         "5",
         "1",
         "admin",
         "24.0",
         "/",
         "2.0",
         "12.0",
         "2025-03-28 01:39:44.348968"
        ]
       ],
       "shape": {
        "columns": 8,
        "rows": 5
       }
      },
      "text/html": [
       "<div>\n",
       "<style scoped>\n",
       "    .dataframe tbody tr th:only-of-type {\n",
       "        vertical-align: middle;\n",
       "    }\n",
       "\n",
       "    .dataframe tbody tr th {\n",
       "        vertical-align: top;\n",
       "    }\n",
       "\n",
       "    .dataframe thead th {\n",
       "        text-align: right;\n",
       "    }\n",
       "</style>\n",
       "<table border=\"1\" class=\"dataframe\">\n",
       "  <thead>\n",
       "    <tr style=\"text-align: right;\">\n",
       "      <th></th>\n",
       "      <th>operacion_id</th>\n",
       "      <th>usuario_id</th>\n",
       "      <th>usuario</th>\n",
       "      <th>operando1</th>\n",
       "      <th>operador</th>\n",
       "      <th>operando2</th>\n",
       "      <th>resultado</th>\n",
       "      <th>operacion_creado_en</th>\n",
       "    </tr>\n",
       "  </thead>\n",
       "  <tbody>\n",
       "    <tr>\n",
       "      <th>0</th>\n",
       "      <td>1</td>\n",
       "      <td>2</td>\n",
       "      <td>profesor</td>\n",
       "      <td>10.0</td>\n",
       "      <td>-</td>\n",
       "      <td>5.0</td>\n",
       "      <td>5.0</td>\n",
       "      <td>2025-03-28 01:08:47.028957</td>\n",
       "    </tr>\n",
       "    <tr>\n",
       "      <th>1</th>\n",
       "      <td>2</td>\n",
       "      <td>1</td>\n",
       "      <td>admin</td>\n",
       "      <td>2.0</td>\n",
       "      <td>+</td>\n",
       "      <td>2.0</td>\n",
       "      <td>4.0</td>\n",
       "      <td>2025-03-28 01:12:58.324156</td>\n",
       "    </tr>\n",
       "    <tr>\n",
       "      <th>2</th>\n",
       "      <td>3</td>\n",
       "      <td>1</td>\n",
       "      <td>admin</td>\n",
       "      <td>2.0</td>\n",
       "      <td>*</td>\n",
       "      <td>3.0</td>\n",
       "      <td>6.0</td>\n",
       "      <td>2025-03-28 01:13:11.899403</td>\n",
       "    </tr>\n",
       "    <tr>\n",
       "      <th>3</th>\n",
       "      <td>4</td>\n",
       "      <td>2</td>\n",
       "      <td>profesor</td>\n",
       "      <td>3.0</td>\n",
       "      <td>+</td>\n",
       "      <td>3.0</td>\n",
       "      <td>6.0</td>\n",
       "      <td>2025-03-28 01:20:36.192123</td>\n",
       "    </tr>\n",
       "    <tr>\n",
       "      <th>4</th>\n",
       "      <td>5</td>\n",
       "      <td>1</td>\n",
       "      <td>admin</td>\n",
       "      <td>24.0</td>\n",
       "      <td>/</td>\n",
       "      <td>2.0</td>\n",
       "      <td>12.0</td>\n",
       "      <td>2025-03-28 01:39:44.348968</td>\n",
       "    </tr>\n",
       "  </tbody>\n",
       "</table>\n",
       "</div>"
      ],
      "text/plain": [
       "   operacion_id  usuario_id   usuario operando1 operador operando2 resultado  \\\n",
       "0             1           2  profesor      10.0        -       5.0       5.0   \n",
       "1             2           1     admin       2.0        +       2.0       4.0   \n",
       "2             3           1     admin       2.0        *       3.0       6.0   \n",
       "3             4           2  profesor       3.0        +       3.0       6.0   \n",
       "4             5           1     admin      24.0        /       2.0      12.0   \n",
       "\n",
       "         operacion_creado_en  \n",
       "0 2025-03-28 01:08:47.028957  \n",
       "1 2025-03-28 01:12:58.324156  \n",
       "2 2025-03-28 01:13:11.899403  \n",
       "3 2025-03-28 01:20:36.192123  \n",
       "4 2025-03-28 01:39:44.348968  "
      ]
     },
     "metadata": {},
     "output_type": "display_data"
    },
    {
     "name": "stdout",
     "output_type": "stream",
     "text": [
      "\n",
      "📊 Información del DataFrame:\n",
      "<class 'pandas.core.frame.DataFrame'>\n",
      "RangeIndex: 14 entries, 0 to 13\n",
      "Data columns (total 8 columns):\n",
      " #   Column               Non-Null Count  Dtype         \n",
      "---  ------               --------------  -----         \n",
      " 0   operacion_id         14 non-null     int64         \n",
      " 1   usuario_id           14 non-null     int64         \n",
      " 2   usuario              14 non-null     object        \n",
      " 3   operando1            14 non-null     object        \n",
      " 4   operador             14 non-null     object        \n",
      " 5   operando2            14 non-null     object        \n",
      " 6   resultado            14 non-null     object        \n",
      " 7   operacion_creado_en  14 non-null     datetime64[ns]\n",
      "dtypes: datetime64[ns](1), int64(2), object(5)\n",
      "memory usage: 1.0+ KB\n"
     ]
    },
    {
     "data": {
      "text/plain": [
       "None"
      ]
     },
     "metadata": {},
     "output_type": "display_data"
    },
    {
     "name": "stdout",
     "output_type": "stream",
     "text": [
      "\n",
      "📝 Resumen estadístico:\n"
     ]
    },
    {
     "data": {
      "application/vnd.microsoft.datawrangler.viewer.v0+json": {
       "columns": [
        {
         "name": "index",
         "rawType": "object",
         "type": "string"
        },
        {
         "name": "operacion_id",
         "rawType": "float64",
         "type": "float"
        },
        {
         "name": "usuario_id",
         "rawType": "float64",
         "type": "float"
        },
        {
         "name": "operacion_creado_en",
         "rawType": "object",
         "type": "unknown"
        }
       ],
       "conversionMethod": "pd.DataFrame",
       "ref": "5c3b0b06-5920-40e6-bb29-7d7f94727744",
       "rows": [
        [
         "count",
         "14.0",
         "14.0",
         "14"
        ],
        [
         "mean",
         "7.5",
         "2.0",
         "2025-03-28 18:12:58.729132032"
        ],
        [
         "min",
         "1.0",
         "1.0",
         "2025-03-28 01:08:47.028957"
        ],
        [
         "25%",
         "4.25",
         "1.0",
         "2025-03-28 01:25:23.231334144"
        ],
        [
         "50%",
         "7.5",
         "1.5",
         "2025-03-28 01:57:07.047374848"
        ],
        [
         "75%",
         "10.75",
         "3.0",
         "2025-03-28 21:07:00.383885312"
        ],
        [
         "max",
         "14.0",
         "4.0",
         "2025-03-31 16:46:53.563094"
        ],
        [
         "std",
         "4.183300132670378",
         "1.1766968108291043",
         null
        ]
       ],
       "shape": {
        "columns": 3,
        "rows": 8
       }
      },
      "text/html": [
       "<div>\n",
       "<style scoped>\n",
       "    .dataframe tbody tr th:only-of-type {\n",
       "        vertical-align: middle;\n",
       "    }\n",
       "\n",
       "    .dataframe tbody tr th {\n",
       "        vertical-align: top;\n",
       "    }\n",
       "\n",
       "    .dataframe thead th {\n",
       "        text-align: right;\n",
       "    }\n",
       "</style>\n",
       "<table border=\"1\" class=\"dataframe\">\n",
       "  <thead>\n",
       "    <tr style=\"text-align: right;\">\n",
       "      <th></th>\n",
       "      <th>operacion_id</th>\n",
       "      <th>usuario_id</th>\n",
       "      <th>operacion_creado_en</th>\n",
       "    </tr>\n",
       "  </thead>\n",
       "  <tbody>\n",
       "    <tr>\n",
       "      <th>count</th>\n",
       "      <td>14.0000</td>\n",
       "      <td>14.000000</td>\n",
       "      <td>14</td>\n",
       "    </tr>\n",
       "    <tr>\n",
       "      <th>mean</th>\n",
       "      <td>7.5000</td>\n",
       "      <td>2.000000</td>\n",
       "      <td>2025-03-28 18:12:58.729132032</td>\n",
       "    </tr>\n",
       "    <tr>\n",
       "      <th>min</th>\n",
       "      <td>1.0000</td>\n",
       "      <td>1.000000</td>\n",
       "      <td>2025-03-28 01:08:47.028957</td>\n",
       "    </tr>\n",
       "    <tr>\n",
       "      <th>25%</th>\n",
       "      <td>4.2500</td>\n",
       "      <td>1.000000</td>\n",
       "      <td>2025-03-28 01:25:23.231334144</td>\n",
       "    </tr>\n",
       "    <tr>\n",
       "      <th>50%</th>\n",
       "      <td>7.5000</td>\n",
       "      <td>1.500000</td>\n",
       "      <td>2025-03-28 01:57:07.047374848</td>\n",
       "    </tr>\n",
       "    <tr>\n",
       "      <th>75%</th>\n",
       "      <td>10.7500</td>\n",
       "      <td>3.000000</td>\n",
       "      <td>2025-03-28 21:07:00.383885312</td>\n",
       "    </tr>\n",
       "    <tr>\n",
       "      <th>max</th>\n",
       "      <td>14.0000</td>\n",
       "      <td>4.000000</td>\n",
       "      <td>2025-03-31 16:46:53.563094</td>\n",
       "    </tr>\n",
       "    <tr>\n",
       "      <th>std</th>\n",
       "      <td>4.1833</td>\n",
       "      <td>1.176697</td>\n",
       "      <td>NaN</td>\n",
       "    </tr>\n",
       "  </tbody>\n",
       "</table>\n",
       "</div>"
      ],
      "text/plain": [
       "       operacion_id  usuario_id            operacion_creado_en\n",
       "count       14.0000   14.000000                             14\n",
       "mean         7.5000    2.000000  2025-03-28 18:12:58.729132032\n",
       "min          1.0000    1.000000     2025-03-28 01:08:47.028957\n",
       "25%          4.2500    1.000000  2025-03-28 01:25:23.231334144\n",
       "50%          7.5000    1.500000  2025-03-28 01:57:07.047374848\n",
       "75%         10.7500    3.000000  2025-03-28 21:07:00.383885312\n",
       "max         14.0000    4.000000     2025-03-31 16:46:53.563094\n",
       "std          4.1833    1.176697                            NaN"
      ]
     },
     "metadata": {},
     "output_type": "display_data"
    }
   ],
   "source": [
    "# Convertir datos a DataFrame para facilitar su análisis\n",
    "def convertir_a_dataframe(datos):\n",
    "    if isinstance(datos, pd.DataFrame):\n",
    "        return datos  # Ya es un DataFrame\n",
    "    \n",
    "    if isinstance(datos, list) and len(datos) > 0:\n",
    "        # Si es una lista de diccionarios\n",
    "        if isinstance(datos[0], dict):\n",
    "            return pd.DataFrame(datos)\n",
    "    \n",
    "    if isinstance(datos, dict):\n",
    "        # Intentar diferentes estrategias según la estructura\n",
    "        if 'operaciones' in datos and isinstance(datos['operaciones'], list):\n",
    "            return pd.DataFrame(datos['operaciones'])\n",
    "        \n",
    "        # Intentar aplanar el diccionario si tiene estructura anidada\n",
    "        try:\n",
    "            df = pd.DataFrame(datos)\n",
    "            return df\n",
    "        except:\n",
    "            print(\"No se pudo convertir el diccionario directamente a DataFrame\")\n",
    "    \n",
    "    print(\"❌ No se pudo convertir los datos a DataFrame\")\n",
    "    return None\n",
    "\n",
    "# Convertir a DataFrame\n",
    "df = convertir_a_dataframe(datos)\n",
    "\n",
    "# Mostrar las primeras filas si el DataFrame se creó correctamente\n",
    "if df is not None:\n",
    "    print(\"\\n🔍 Primeras filas del DataFrame:\")\n",
    "    display(df.head())\n",
    "    \n",
    "    print(\"\\n📊 Información del DataFrame:\")\n",
    "    display(df.info())\n",
    "    \n",
    "    print(\"\\n📝 Resumen estadístico:\")\n",
    "    display(df.describe())\n",
    "else:\n",
    "    print(\"❌ No se pudo realizar el análisis porque los datos no se pudieron convertir a DataFrame\")"
   ]
  },
  {
   "cell_type": "code",
   "execution_count": 6,
   "metadata": {},
   "outputs": [
    {
     "data": {
      "image/png": "[encoded data removed]",
      "text/plain": [
       "<Figure size 1000x600 with 1 Axes>"
      ]
     },
     "metadata": {},
     "output_type": "display_data"
    },
    {
     "data": {
      "image/png": "[encoded data removed]",
      "text/plain": [
       "<Figure size 1200x700 with 1 Axes>"
      ]
     },
     "metadata": {},
     "output_type": "display_data"
    },
    {
     "name": "stdout",
     "output_type": "stream",
     "text": [
      "\n",
      "📈 Estadísticas de resultados por operador:\n"
     ]
    },
    {
     "data": {
      "application/vnd.microsoft.datawrangler.viewer.v0+json": {
       "columns": [
        {
         "name": "index",
         "rawType": "int64",
         "type": "integer"
        },
        {
         "name": "operador",
         "rawType": "object",
         "type": "string"
        },
        {
         "name": "count",
         "rawType": "int64",
         "type": "integer"
        },
        {
         "name": "mean",
         "rawType": "object",
         "type": "unknown"
        },
        {
         "name": "std",
         "rawType": "float64",
         "type": "float"
        },
        {
         "name": "min",
         "rawType": "object",
         "type": "unknown"
        },
        {
         "name": "max",
         "rawType": "object",
         "type": "unknown"
        }
       ],
       "conversionMethod": "pd.DataFrame",
       "ref": "533dadfb-74a1-45d0-8751-09d5a894b1d1",
       "rows": [
        [
         "0",
         "*",
         "2",
         "9.0",
         "4.242640687119285",
         "6.0",
         "12.0"
        ],
        [
         "1",
         "+",
         "5",
         "9.6",
         "7.127411872482185",
         "4.0",
         "20.0"
        ],
        [
         "2",
         "-",
         "3",
         "4.0",
         "1.0",
         "3.0",
         "5.0"
        ],
        [
         "3",
         "/",
         "4",
         "5.75",
         "4.272001872658766",
         "3.0",
         "12.0"
        ]
       ],
       "shape": {
        "columns": 6,
        "rows": 4
       }
      },
      "text/html": [
       "<div>\n",
       "<style scoped>\n",
       "    .dataframe tbody tr th:only-of-type {\n",
       "        vertical-align: middle;\n",
       "    }\n",
       "\n",
       "    .dataframe tbody tr th {\n",
       "        vertical-align: top;\n",
       "    }\n",
       "\n",
       "    .dataframe thead th {\n",
       "        text-align: right;\n",
       "    }\n",
       "</style>\n",
       "<table border=\"1\" class=\"dataframe\">\n",
       "  <thead>\n",
       "    <tr style=\"text-align: right;\">\n",
       "      <th></th>\n",
       "      <th>operador</th>\n",
       "      <th>count</th>\n",
       "      <th>mean</th>\n",
       "      <th>std</th>\n",
       "      <th>min</th>\n",
       "      <th>max</th>\n",
       "    </tr>\n",
       "  </thead>\n",
       "  <tbody>\n",
       "    <tr>\n",
       "      <th>0</th>\n",
       "      <td>*</td>\n",
       "      <td>2</td>\n",
       "      <td>9.0</td>\n",
       "      <td>4.242641</td>\n",
       "      <td>6.0</td>\n",
       "      <td>12.0</td>\n",
       "    </tr>\n",
       "    <tr>\n",
       "      <th>1</th>\n",
       "      <td>+</td>\n",
       "      <td>5</td>\n",
       "      <td>9.6</td>\n",
       "      <td>7.127412</td>\n",
       "      <td>4.0</td>\n",
       "      <td>20.0</td>\n",
       "    </tr>\n",
       "    <tr>\n",
       "      <th>2</th>\n",
       "      <td>-</td>\n",
       "      <td>3</td>\n",
       "      <td>4.0</td>\n",
       "      <td>1.000000</td>\n",
       "      <td>3.0</td>\n",
       "      <td>5.0</td>\n",
       "    </tr>\n",
       "    <tr>\n",
       "      <th>3</th>\n",
       "      <td>/</td>\n",
       "      <td>4</td>\n",
       "      <td>5.75</td>\n",
       "      <td>4.272002</td>\n",
       "      <td>3.0</td>\n",
       "      <td>12.0</td>\n",
       "    </tr>\n",
       "  </tbody>\n",
       "</table>\n",
       "</div>"
      ],
      "text/plain": [
       "  operador  count  mean       std  min   max\n",
       "0        *      2   9.0  4.242641  6.0  12.0\n",
       "1        +      5   9.6  7.127412  4.0  20.0\n",
       "2        -      3   4.0  1.000000  3.0   5.0\n",
       "3        /      4  5.75  4.272002  3.0  12.0"
      ]
     },
     "metadata": {},
     "output_type": "display_data"
    }
   ],
   "source": [
    "# Si tenemos un DataFrame con operaciones, analicemos el uso de operadores\n",
    "if df is not None and 'operador' in df.columns:\n",
    "    # Frecuencia de operadores utilizados\n",
    "    plt.figure(figsize=(10, 6))\n",
    "    operador_counts = df['operador'].value_counts()\n",
    "    \n",
    "    ax = operador_counts.plot(kind='bar', color='skyblue')\n",
    "    plt.title('Frecuencia de Operadores Utilizados', fontsize=15)\n",
    "    plt.xlabel('Operador', fontsize=12)\n",
    "    plt.ylabel('Cantidad de Operaciones', fontsize=12)\n",
    "    plt.xticks(rotation=0)\n",
    "    \n",
    "    # Añadir etiquetas con valores\n",
    "    for i, v in enumerate(operador_counts):\n",
    "        ax.text(i, v + 0.1, str(v), ha='center', fontsize=10)\n",
    "    \n",
    "    plt.tight_layout()\n",
    "    plt.show()\n",
    "    \n",
    "    # Resultados por tipo de operación\n",
    "    if 'resultado' in df.columns:\n",
    "        plt.figure(figsize=(12, 7))\n",
    "        \n",
    "        # Crear un boxplot para ver la distribución de resultados por operador\n",
    "        sns.boxplot(x='operador', y='resultado', data=df)\n",
    "        plt.title('Distribución de Resultados por Operador', fontsize=15)\n",
    "        plt.xlabel('Operador', fontsize=12)\n",
    "        plt.ylabel('Resultado', fontsize=12)\n",
    "        \n",
    "        plt.tight_layout()\n",
    "        plt.show()\n",
    "        \n",
    "        # Calcular estadísticas por operador\n",
    "        print(\"\\n📈 Estadísticas de resultados por operador:\")\n",
    "        display(df.groupby('operador')['resultado'].agg(['count', 'mean', 'std', 'min', 'max']).reset_index())"
   ]
  },
  {
   "cell_type": "code",
   "execution_count": 7,
   "metadata": {},
   "outputs": [
    {
     "name": "stdout",
     "output_type": "stream",
     "text": [
      "\n",
      "⏰ Realizando análisis temporal usando la columna: operacion_creado_en\n"
     ]
    },
    {
     "data": {
      "image/png": "[encoded data removed]",
      "text/plain": [
       "<Figure size 1200x600 with 1 Axes>"
      ]
     },
     "metadata": {},
     "output_type": "display_data"
    },
    {
     "data": {
      "image/png": "[encoded data removed]",
      "text/plain": [
       "<Figure size 1400x700 with 1 Axes>"
      ]
     },
     "metadata": {},
     "output_type": "display_data"
    }
   ],
   "source": [
    "# Análisis temporal si tenemos columna de fecha\n",
    "fecha_cols = [col for col in df.columns if 'fecha' in col.lower() or 'creado' in col.lower() or 'hora' in col.lower()]\n",
    "\n",
    "if fecha_cols:\n",
    "    fecha_col = fecha_cols[0]\n",
    "    print(f\"\\n⏰ Realizando análisis temporal usando la columna: {fecha_col}\")\n",
    "    \n",
    "    # Asegurarnos que la columna esté en formato datetime\n",
    "    if not pd.api.types.is_datetime64_any_dtype(df[fecha_col]):\n",
    "        try:\n",
    "            df[fecha_col] = pd.to_datetime(df[fecha_col])\n",
    "            print(\"Columna convertida a datetime\")\n",
    "        except:\n",
    "            print(\"No se pudo convertir la columna a formato datetime\")\n",
    "    \n",
    "    if pd.api.types.is_datetime64_any_dtype(df[fecha_col]):\n",
    "        # Añadir columnas de año, mes, día y hora para facilitar el análisis\n",
    "        df['año'] = df[fecha_col].dt.year\n",
    "        df['mes'] = df[fecha_col].dt.month\n",
    "        df['día'] = df[fecha_col].dt.day\n",
    "        df['hora'] = df[fecha_col].dt.hour\n",
    "        \n",
    "        # Operaciones por día de la semana\n",
    "        df['día_semana'] = df[fecha_col].dt.day_name()\n",
    "        \n",
    "        plt.figure(figsize=(12, 6))\n",
    "        day_order = ['Monday', 'Tuesday', 'Wednesday', 'Thursday', 'Friday', 'Saturday', 'Sunday']\n",
    "        day_counts = df['día_semana'].value_counts().reindex(day_order)\n",
    "        \n",
    "        ax = day_counts.plot(kind='bar', color='lightgreen')\n",
    "        plt.title('Operaciones por Día de la Semana', fontsize=15)\n",
    "        plt.xlabel('Día', fontsize=12)\n",
    "        plt.ylabel('Número de Operaciones', fontsize=12)\n",
    "        \n",
    "        # Añadir etiquetas con valores\n",
    "        for i, v in enumerate(day_counts):\n",
    "            if not pd.isna(v):  # Verificar que no sea NaN\n",
    "                ax.text(i, v + 0.1, str(int(v)), ha='center', fontsize=10)\n",
    "        \n",
    "        plt.tight_layout()\n",
    "        plt.show()\n",
    "        \n",
    "        # Operaciones por hora del día\n",
    "        plt.figure(figsize=(14, 7))\n",
    "        hour_counts = df['hora'].value_counts().sort_index()\n",
    "        \n",
    "        ax = hour_counts.plot(kind='bar', color='salmon')\n",
    "        plt.title('Operaciones por Hora del Día', fontsize=15)\n",
    "        plt.xlabel('Hora', fontsize=12)\n",
    "        plt.ylabel('Número de Operaciones', fontsize=12)\n",
    "        plt.xticks(rotation=0)\n",
    "        \n",
    "        # Añadir etiquetas con valores\n",
    "        for i, v in enumerate(hour_counts):\n",
    "            ax.text(i, v + 0.1, str(int(v)), ha='center', fontsize=10)\n",
    "        \n",
    "        plt.tight_layout()\n",
    "        plt.show()"
   ]
  },
  {
   "cell_type": "code",
   "execution_count": 8,
   "metadata": {},
   "outputs": [
    {
     "name": "stdout",
     "output_type": "stream",
     "text": [
      "\n",
      "👤 Realizando análisis por usuario usando la columna: usuario\n"
     ]
    },
    {
     "data": {
      "image/png": "[encoded data removed]",
      "text/plain": [
       "<Figure size 1200x600 with 1 Axes>"
      ]
     },
     "metadata": {},
     "output_type": "display_data"
    },
    {
     "data": {
      "text/plain": [
       "<Figure size 1400x800 with 0 Axes>"
      ]
     },
     "metadata": {},
     "output_type": "display_data"
    },
    {
     "data": {
      "image/png": "[encoded data removed]",
      "text/plain": [
       "<Figure size 640x480 with 1 Axes>"
      ]
     },
     "metadata": {},
     "output_type": "display_data"
    }
   ],
   "source": [
    "# Análisis por usuario si tenemos esa información\n",
    "if 'usuario_id' in df.columns or 'usuario' in df.columns:\n",
    "    usuario_col = 'usuario' if 'usuario' in df.columns else 'usuario_id'\n",
    "    print(f\"\\n👤 Realizando análisis por usuario usando la columna: {usuario_col}\")\n",
    "    \n",
    "    # Top usuarios por número de operaciones\n",
    "    plt.figure(figsize=(12, 6))\n",
    "    user_counts = df[usuario_col].value_counts().head(10)  # Top 10 usuarios\n",
    "    \n",
    "    ax = user_counts.plot(kind='bar', color='lightblue')\n",
    "    plt.title('Top 10 Usuarios por Número de Operaciones', fontsize=15)\n",
    "    plt.xlabel('Usuario', fontsize=12)\n",
    "    plt.ylabel('Número de Operaciones', fontsize=12)\n",
    "    \n",
    "    # Añadir etiquetas con valores\n",
    "    for i, v in enumerate(user_counts):\n",
    "        ax.text(i, v + 0.1, str(int(v)), ha='center', fontsize=10)\n",
    "    \n",
    "    plt.tight_layout()\n",
    "    plt.show()\n",
    "    \n",
    "    # Análisis de operadores preferidos por usuario (top 5 usuarios)\n",
    "    if 'operador' in df.columns:\n",
    "        top_users = df[usuario_col].value_counts().head(5).index.tolist()\n",
    "        \n",
    "        plt.figure(figsize=(14, 8))\n",
    "        user_op_data = df[df[usuario_col].isin(top_users)]\n",
    "        \n",
    "        # Crear tabla de contingencia\n",
    "        crosstab = pd.crosstab(user_op_data[usuario_col], user_op_data['operador'])\n",
    "        \n",
    "        # Gráfico de barras apiladas\n",
    "        crosstab.plot(kind='bar', stacked=True, colormap='viridis')\n",
    "        plt.title('Operadores Preferidos por Top 5 Usuarios', fontsize=15)\n",
    "        plt.xlabel('Usuario', fontsize=12)\n",
    "        plt.ylabel('Número de Operaciones', fontsize=12)\n",
    "        plt.legend(title='Operador')\n",
    "        \n",
    "        plt.tight_layout()\n",
    "        plt.show()"
   ]
  },
  {
   "cell_type": "code",
   "execution_count": 10,
   "metadata": {},
   "outputs": [
    {
     "name": "stdout",
     "output_type": "stream",
     "text": [
      "\n",
      "📋 RESUMEN DEL ANÁLISIS\n",
      "--------------------------------------------------\n",
      "• Total de registros analizados: 14\n",
      "• Operador más utilizado: + (5 veces)\n",
      "• Resultado promedio: 7.21\n",
      "• Resultado mínimo: 3.00\n",
      "• Resultado máximo: 20.00\n",
      "• Usuario más activo: admin (7 operaciones)\n",
      "• Total de usuarios distintos: 4\n",
      "• Periodo analizado: 2025-03-28 a 2025-03-31\n",
      "• Duración: 3 días\n",
      "• Promedio de operaciones por día: 4.67\n",
      "--------------------------------------------------\n",
      "✨ Análisis exploratorio completado\n"
     ]
    }
   ],
   "source": [
    "# Generar un resumen general del análisis\n",
    "if df is not None:\n",
    "    print(\"\\n📋 RESUMEN DEL ANÁLISIS\")\n",
    "    print(\"-\" * 50)\n",
    "    \n",
    "    # Información básica\n",
    "    print(f\"• Total de registros analizados: {len(df)}\")\n",
    "    \n",
    "    if 'operador' in df.columns:\n",
    "        op_stats = df['operador'].value_counts()\n",
    "        print(f\"• Operador más utilizado: {op_stats.index[0]} ({op_stats.iloc[0]} veces)\")\n",
    "    \n",
    "    if 'resultado' in df.columns:\n",
    "        print(f\"• Resultado promedio: {df['resultado'].mean():.2f}\")\n",
    "        print(f\"• Resultado mínimo: {df['resultado'].min():.2f}\")\n",
    "        print(f\"• Resultado máximo: {df['resultado'].max():.2f}\")\n",
    "    \n",
    "    if 'usuario' in df.columns or 'usuario_id' in df.columns:\n",
    "        usuario_col = 'usuario' if 'usuario' in df.columns else 'usuario_id'\n",
    "        user_stats = df[usuario_col].value_counts()\n",
    "        print(f\"• Usuario más activo: {user_stats.index[0]} ({user_stats.iloc[0]} operaciones)\")\n",
    "        print(f\"• Total de usuarios distintos: {df[usuario_col].nunique()}\")\n",
    "    \n",
    "    # Fechas\n",
    "    if fecha_cols:\n",
    "        fecha_col = fecha_cols[0]\n",
    "        if pd.api.types.is_datetime64_any_dtype(df[fecha_col]):\n",
    "            print(f\"• Periodo analizado: {df[fecha_col].min().date()} a {df[fecha_col].max().date()}\")\n",
    "            days = (df[fecha_col].max() - df[fecha_col].min()).days\n",
    "            print(f\"• Duración: {days} días\")\n",
    "            print(f\"• Promedio de operaciones por día: {len(df)/max(1, days):.2f}\")\n",
    "    \n",
    "    print(\"-\" * 50)\n",
    "    print(\"✨ Análisis exploratorio completado\")"
   ]
  }
 ],
 "metadata": {
  "kernelspec": {
   "display_name": "venv",
   "language": "python",
   "name": "python3"
  },
  "language_info": {
   "codemirror_mode": {
    "name": "ipython",
    "version": 3
   },
   "file_extension": ".py",
   "mimetype": "text/x-python",
   "name": "python",
   "nbconvert_exporter": "python",
   "pygments_lexer": "ipython3",
   "version": "3.11.0"
  }
 },
 "nbformat": 4,
 "nbformat_minor": 2
}
